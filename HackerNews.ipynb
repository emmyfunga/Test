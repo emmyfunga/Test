{
 "cells": [
  {
   "cell_type": "markdown",
   "metadata": {
    "collapsed": true
   },
   "source": [
    "We are analysing Hack news data set. hacker news is a website by which users post different post regrding to technology, startups. when a post is uploaded on the website the user can vote and comment about the post. in this project we are intrested specificall in ASK HN posts and SHOW HN posts. ASK HN posts are those user upload their concern by asking other users about a specific concept ans SHOW HN posts are aiming to showthe community a project, product or just generally something interesting. our task is to compare between SHOW and ASK which post that get a lot of comments. secondly, we want to know whether posts created at a certain time get more comments on average."
   ]
  },
  {
   "cell_type": "code",
   "execution_count": null,
   "metadata": {},
   "outputs": [
    {
     "evalue": "Error: Activating Python 3.7.2 64-bit to run Jupyter failed with Error: Command failed: C:/Users/efungaroho/AppData/Local/Continuum/anaconda3/Scripts/activate.bat && echo 'e8b39361-0157-4923-80e1-22d70d46dee6' && python c:/Users/efungaroho/.vscode/extensions/ms-python.python-2020.1.58038/pythonFiles/printEnvVariables.py\n.",
     "output_type": "error"
    }
   ],
   "source": [
    "# importing libraries we shall need\n",
    "import pandas as pd\n",
    "import datetime as dt\n",
    "from csv import reader"
   ]
  },
  {
   "cell_type": "code",
   "execution_count": null,
   "metadata": {
    "collapsed": true
   },
   "outputs": [],
   "source": [
    "# Openning and reading data set\n",
    "opened=open(\"hacker_news.csv\")\n",
    "read=reader(opened)\n",
    "hn=list(read)\n",
    "headers=hn[0]\n",
    "hn=hn[1:]"
   ]
  },
  {
   "cell_type": "code",
   "execution_count": null,
   "metadata": {},
   "outputs": [],
   "source": [
    "# reading the heading to know the name of columns\n",
    "headers"
   ]
  },
  {
   "cell_type": "code",
   "execution_count": null,
   "metadata": {},
   "outputs": [],
   "source": [
    "# reading first five rows of the data set to know the data set\n",
    "print(hn[:6])"
   ]
  },
  {
   "cell_type": "code",
   "execution_count": null,
   "metadata": {},
   "outputs": [],
   "source": [
    "# categorizing posts from show, ask and others\n",
    "ask_posts=[]\n",
    "show_posts=[]\n",
    "other_posts=[]\n",
    "\n",
    "for row in hn:\n",
    "    title=row[1]\n",
    "    if(title.lower()).startswith('ask hn'):\n",
    "        ask_posts.append(row)\n",
    "    elif(title.lower()).startswith('show hn'):\n",
    "        show_posts.append(row)\n",
    "    else:\n",
    "        other_posts.append(row)\n",
    "len(ask_posts)\n",
    "len(show_posts)\n",
    "len(other_posts)\n"
   ]
  },
  {
   "cell_type": "code",
   "execution_count": null,
   "metadata": {},
   "outputs": [],
   "source": [
    "# Printing few rows of ask_posts list to check if we are right\n",
    "\n",
    "print(ask_posts[:6])"
   ]
  },
  {
   "cell_type": "code",
   "execution_count": null,
   "metadata": {},
   "outputs": [],
   "source": [
    "# Determining which cathegory that received big number of comments on average\n",
    "\n",
    "# Calculating average comments for ask posts\n",
    "total_ask_comments=0\n",
    "for row in ask_posts:\n",
    "    comments=int(row[4])\n",
    "    total_ask_comments = total_ask_comments+comments\n",
    "avg_ask_comments=total_ask_comments/len(ask_posts)\n",
    "\n",
    "print(avg_ask_comments)\n",
    "\n",
    "# Calculating average comments for show posts\n",
    "total_show_comments=0\n",
    "for row in show_posts:\n",
    "    show_comments=int(row[4])\n",
    "    total_show_comments = total_show_comments+show_comments\n",
    "avg_show_comments=total_show_comments/len(show_posts)\n",
    "\n",
    "print(avg_show_comments)\n",
    "\n"
   ]
  },
  {
   "cell_type": "markdown",
   "metadata": {},
   "source": [
    "### Results interpretation\n",
    "\n",
    "From the reserts above, Ask posts received many averages comments compared to show posts. this might be caused by fact that when there is an ask post everyone is trying to give a response to the asked question while show post community might click on provided link and are not interested in commenting on the post."
   ]
  },
  {
   "cell_type": "markdown",
   "metadata": {},
   "source": [
    "### What is the next step?\n",
    "\n",
    "Since we found that ask posts received more commens, we will focus the rest of our analysis on ask posts"
   ]
  },
  {
   "cell_type": "code",
   "execution_count": null,
   "metadata": {},
   "outputs": [],
   "source": [
    "# Calculating average number of post per hour and average number of comment per hour\n",
    "result_list=[] # list of list\n",
    "for row in ask_posts:\n",
    "    listing=[] # list that contains time post created and number of comments for each iteration\n",
    "    listing.append(row[6])\n",
    "    listing.append(int(row[4]))\n",
    "    result_list.append(listing)\n",
    "counts_by_hour={}   \n",
    "comments_by_hour={}\n",
    "\n",
    "for row in result_list:\n",
    "    post_time=dt.datetime.strptime(row[0],\"%m/%d/%Y %H:%M\") # parsing string to date\n",
    "    hour=dt.datetime.strftime(post_time,\"%H\") # converting hour string to datetime(hour \n",
    "    if hour not in counts_by_hour:\n",
    "        counts_by_hour[hour]=1\n",
    "        comments_by_hour[hour]=row[1]\n",
    "    else:\n",
    "        counts_by_hour[hour]+=1\n",
    "        comments_by_hour[hour]=comments_by_hour[hour]+row[1]\n",
    "\n",
    "# print(result_list)\n",
    "print(comments_by_hour)\n"
   ]
  },
  {
   "cell_type": "code",
   "execution_count": 83,
   "metadata": {},
   "outputs": [
    {
     "name": "stdout",
     "output_type": "stream",
     "text": [
      "[['20', 21.525], ['09', 5.5777777777777775], ['12', 9.41095890410959], ['23', 7.985294117647059], ['05', 10.08695652173913], ['07', 7.852941176470588], ['14', 13.233644859813085], ['15', 38.5948275862069], ['11', 11.051724137931034], ['04', 7.170212765957447], ['01', 11.383333333333333], ['18', 13.20183486238532], ['19', 10.8], ['16', 16.796296296296298], ['06', 9.022727272727273], ['03', 7.796296296296297], ['22', 6.746478873239437], ['10', 13.440677966101696], ['02', 23.810344827586206], ['13', 14.741176470588234], ['17', 11.46], ['00', 8.127272727272727], ['21', 16.009174311926607], ['08', 10.25]]\n"
     ]
    }
   ],
   "source": [
    "avg_by_hour=[]\n",
    "\n",
    "for item in counts_by_hour:\n",
    "    avg_by_hour.append([item,(comments_by_hour[item]/counts_by_hour[item])])\n",
    "print(avg_by_hour)"
   ]
  },
  {
   "cell_type": "code",
   "execution_count": 84,
   "metadata": {},
   "outputs": [],
   "source": [
    "swap_avg_by_hour=[]\n",
    "\n",
    "for item in avg_by_hour:\n",
    "    swap_avg_by_hour.append([item[1],item[0]])\n",
    "sorted_swap=sorted(swap_avg_by_hour,reverse=True)"
   ]
  },
  {
   "cell_type": "code",
   "execution_count": 100,
   "metadata": {},
   "outputs": [
    {
     "name": "stdout",
     "output_type": "stream",
     "text": [
      "13:00: 38.59 average comments per post\n",
      "00:00: 23.81 average comments per post\n",
      "18:00: 21.52 average comments per post\n",
      "14:00: 16.80 average comments per post\n",
      "19:00: 16.01 average comments per post\n"
     ]
    }
   ],
   "source": [
    "for item in sorted_swap[:5]:\n",
    "    to_date=dt.datetime.strptime((item[1]),\"%H\")-dt.timedelta(hours=2) # converting string to datetime and substracting 2 hours to put it in our time zone\n",
    "    to_string=(dt.datetime.strftime(to_date,\"%H:%M\")) # converting datetime to string\n",
    "    print(\"{}: {:.2f} average comments per post\".format(to_string,item[0]))\n",
    "    \n",
    "    "
   ]
  },
  {
   "cell_type": "code",
   "execution_count": null,
   "metadata": {
    "collapsed": true
   },
   "outputs": [],
   "source": []
  },
  {
   "cell_type": "markdown",
   "metadata": {},
   "source": [
    "### Results interpretation\n",
    "\n",
    "From the analysis above, the average most commented on post, ti's one post at 15h follwed by 02h and the least commented on is one of 09h. this could be from the reason that most of people have a break at 15h when they feel tied and start reading different news. while 9 AM most of people are very concentrated on work.\n",
    "\n",
    "To have higher chance of receiving many comment we should post at 15h."
   ]
  },
  {
   "cell_type": "code",
   "execution_count": 97,
   "metadata": {},
   "outputs": [
    {
     "data": {
      "text/plain": [
       "[[38.5948275862069, '15'],\n",
       " [23.810344827586206, '02'],\n",
       " [21.525, '20'],\n",
       " [16.796296296296298, '16'],\n",
       " [16.009174311926607, '21'],\n",
       " [14.741176470588234, '13'],\n",
       " [13.440677966101696, '10'],\n",
       " [13.233644859813085, '14'],\n",
       " [13.20183486238532, '18'],\n",
       " [11.46, '17'],\n",
       " [11.383333333333333, '01'],\n",
       " [11.051724137931034, '11'],\n",
       " [10.8, '19'],\n",
       " [10.25, '08'],\n",
       " [10.08695652173913, '05'],\n",
       " [9.41095890410959, '12'],\n",
       " [9.022727272727273, '06'],\n",
       " [8.127272727272727, '00'],\n",
       " [7.985294117647059, '23'],\n",
       " [7.852941176470588, '07'],\n",
       " [7.796296296296297, '03'],\n",
       " [7.170212765957447, '04'],\n",
       " [6.746478873239437, '22'],\n",
       " [5.5777777777777775, '09']]"
      ]
     },
     "execution_count": 97,
     "metadata": {},
     "output_type": "execute_result"
    }
   ],
   "source": [
    "sorted_swap"
   ]
  }
 ],
 "metadata": {
  "kernelspec": {
   "display_name": "Python 3",
   "language": "python",
   "name": "python3"
  },
  "language_info": {
   "codemirror_mode": {
    "name": "ipython",
    "version": 3
   },
   "file_extension": ".py",
   "mimetype": "text/x-python",
   "name": "python",
   "nbconvert_exporter": "python",
   "pygments_lexer": "ipython3",
   "version": "3.7.0"
  }
 },
 "nbformat": 4,
 "nbformat_minor": 2
}